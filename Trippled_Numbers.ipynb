{
 "cells": [
  {
   "cell_type": "code",
   "execution_count": 1,
   "metadata": {},
   "outputs": [
    {
     "name": "stdout",
     "output_type": "stream",
     "text": [
      "Original Numbers: []\n",
      "Tripled Numbers: []\n"
     ]
    }
   ],
   "source": [
    "def triple_number(number):\n",
    "    return number * 3\n",
    "\n",
    "input_numbers = input(\"Enter a list of integers separated by spaces: \")\n",
    "\n",
    "numbers = list(map(int, input_numbers.split()))\n",
    "\n",
    "tripled_numbers = list(map(triple_number, numbers))\n",
    "\n",
    "print(\"Original Numbers:\", numbers)\n",
    "print(\"Tripled Numbers:\", tripled_numbers)\n"
   ]
  }
 ],
 "metadata": {
  "kernelspec": {
   "display_name": "Python 3",
   "language": "python",
   "name": "python3"
  },
  "language_info": {
   "codemirror_mode": {
    "name": "ipython",
    "version": 3
   },
   "file_extension": ".py",
   "mimetype": "text/x-python",
   "name": "python",
   "nbconvert_exporter": "python",
   "pygments_lexer": "ipython3",
   "version": "3.12.0"
  }
 },
 "nbformat": 4,
 "nbformat_minor": 2
}
