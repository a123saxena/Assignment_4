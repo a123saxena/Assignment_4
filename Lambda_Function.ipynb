{
 "cells": [
  {
   "cell_type": "code",
   "execution_count": 8,
   "metadata": {},
   "outputs": [
    {
     "name": "stdout",
     "output_type": "stream",
     "text": [
      "Invalid input. Please enter a non-empty number.\n"
     ]
    }
   ],
   "source": [
    "add_25 = lambda x: x + 25\n",
    "\n",
    "y = input(\"Enter a number: \")\n",
    "\n",
    "# Check if the input is not empty\n",
    "if y.strip():  \n",
    "    # Convert input to an integer\n",
    "    z = int(y)\n",
    "\n",
    "    # Use the lambda function to add 25 to the user's input\n",
    "    result = add_25(z)\n",
    "\n",
    "    print(f\"The result of adding 25 to {z} is: {result}\")\n",
    "else:\n",
    "    print(\"Invalid input. Please enter a non-empty number.\")\n"
   ]
  }
 ],
 "metadata": {
  "kernelspec": {
   "display_name": "Python 3",
   "language": "python",
   "name": "python3"
  },
  "language_info": {
   "codemirror_mode": {
    "name": "ipython",
    "version": 3
   },
   "file_extension": ".py",
   "mimetype": "text/x-python",
   "name": "python",
   "nbconvert_exporter": "python",
   "pygments_lexer": "ipython3",
   "version": "3.12.0"
  }
 },
 "nbformat": 4,
 "nbformat_minor": 2
}
