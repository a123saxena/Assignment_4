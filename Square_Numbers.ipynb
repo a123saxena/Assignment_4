{
 "cells": [
  {
   "cell_type": "code",
   "execution_count": 1,
   "metadata": {},
   "outputs": [
    {
     "name": "stdout",
     "output_type": "stream",
     "text": [
      "Original List: []\n",
      "Squared List: []\n"
     ]
    }
   ],
   "source": [
    "# Function to square a number\n",
    "def square(x):\n",
    "    return x ** 2\n",
    "\n",
    "# Take input from the user\n",
    "input_list = input(\"Enter a list of numbers separated by spaces: \")\n",
    "\n",
    "# Convert input string to a list of integers\n",
    "numbers = list(map(int, input_list.split()))\n",
    "\n",
    "# Use map() to square each element in the list\n",
    "squared_list = list(map(square, numbers))\n",
    "\n",
    "# Display the original and squared lists\n",
    "print(\"Original List:\", numbers)\n",
    "print(\"Squared List:\", squared_list)\n"
   ]
  }
 ],
 "metadata": {
  "kernelspec": {
   "display_name": "Python 3",
   "language": "python",
   "name": "python3"
  },
  "language_info": {
   "codemirror_mode": {
    "name": "ipython",
    "version": 3
   },
   "file_extension": ".py",
   "mimetype": "text/x-python",
   "name": "python",
   "nbconvert_exporter": "python",
   "pygments_lexer": "ipython3",
   "version": "3.12.0"
  }
 },
 "nbformat": 4,
 "nbformat_minor": 2
}
